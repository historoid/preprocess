{
 "cells": [
  {
   "cell_type": "code",
   "execution_count": 1,
   "id": "b1733443-bafb-487f-8f38-9c3049f95070",
   "metadata": {},
   "outputs": [],
   "source": [
    "import os\n",
    "import yaml\n",
    "import pandas as pd\n",
    "\n",
    "# 列幅を広げる（制限をなくす場合は -1 を指定）\n",
    "pd.options.display.max_colwidth = None\n",
    "\n",
    "# 設定ファイルの読み込み\n",
    "with open('config.yaml', 'r', encoding='utf-8') as file:\n",
    "    config = yaml.safe_load(file)\n",
    "\n",
    "primary_folders = config['primary_folders']\n",
    "secondary_folders = config['secondary_folders']\n",
    "ignore_extensions = config['ignore_extensions']"
   ]
  },
  {
   "cell_type": "code",
   "execution_count": 2,
   "id": "14434229-a491-4846-bb83-66f3b246512a",
   "metadata": {},
   "outputs": [
    {
     "name": "stdout",
     "output_type": "stream",
     "text": [
      "患者候補フォルダの一覧をpatients_candidates.parquetとして出力しました。\n"
     ]
    }
   ],
   "source": [
    "# 患者候補フォルダのリストを格納するリスト\n",
    "patient_candidates = []\n",
    "\n",
    "# primary_folderとsecondary_folderの絶対パスを記録\n",
    "primary_paths = {os.path.abspath(folder) for folder in primary_folders}\n",
    "secondary_paths = {os.path.abspath(folder) for folder in secondary_folders}\n",
    "\n",
    "# secondary_folder直下の患者候補フォルダをリストアップ\n",
    "patient_paths = set()\n",
    "for secondary_folder in secondary_folders:\n",
    "    abs_secondary_folder = os.path.abspath(secondary_folder)\n",
    "    if os.path.exists(abs_secondary_folder):\n",
    "        for entry in os.listdir(abs_secondary_folder):\n",
    "            entry_path = os.path.join(abs_secondary_folder, entry)\n",
    "            if os.path.isdir(entry_path):\n",
    "                patient_candidates.append({\n",
    "                    'patient_folder_name': entry,\n",
    "                    'patient_folder_path': os.path.abspath(entry_path),\n",
    "                    'secondary_folder': abs_secondary_folder\n",
    "                })\n",
    "\n",
    "# 患者候補フォルダ一覧をDataFrameに変換して保存\n",
    "df_patients = pd.DataFrame(patient_candidates)\n",
    "df_patients.to_parquet('patients_candidates.parquet', index=False)\n",
    "print(\"患者候補フォルダの一覧をpatients_candidates.parquetとして出力しました。\")"
   ]
  },
  {
   "cell_type": "code",
   "execution_count": null,
   "id": "b9529f67-13dd-4535-ba55-704571038a58",
   "metadata": {},
   "outputs": [],
   "source": [
    "from tqdm import tqdm\n",
    "from pathlib import Path\n",
    "\n",
    "# 例外ファイル・フォルダの格納リスト\n",
    "exception_entries = []\n",
    "\n",
    "# すべての対象となるファイル・フォルダの抽出\n",
    "# Path オブジェクトを使って対象の絶対パスを取得\n",
    "abs_paths = [\n",
    "    str(path.resolve())\n",
    "    for primary_folder in primary_folders\n",
    "    for path in Path(primary_folder).rglob(\"*\")\n",
    "]\n",
    "\n",
    "for abs_path in tqdm(abs_paths):\n",
    "    # 患者フォルダそのもの、あるいは中身を除外\n",
    "    if any(abs_path.startswith(patient_path) for patient_path in df_patients['patient_folder_path']):\n",
    "        continue\n",
    "\n",
    "    # secondaryフォルダそのものを除外\n",
    "    if abs_path in {os.path.abspath(secondary_folder) for secondary_folder in secondary_folders}:\n",
    "        continue\n",
    "\n",
    "    # primaryフォルダそのものを除外\n",
    "    if abs_path in {os.path.abspath(primary_folder) for primary_folder in primary_folders}:\n",
    "        continue\n",
    "\n",
    "    # 無視する拡張子のファイルを除外\n",
    "    if any(abs_path.lower().endswith(ext.lower()) for ext in ignore_extensions):\n",
    "        continue\n",
    "\n",
    "    # リストに追加\n",
    "    exception_entries.append({\n",
    "        'type': 'folder' if os.path.isdir(abs_path) else 'file',\n",
    "        'path': abs_path\n",
    "    })\n",
    "\n",
    "# 例外フォルダ・ファイル一覧をDataFrameに変換して保存\n",
    "df_exceptions = pd.DataFrame(exception_entries)\n",
    "df_exceptions.to_parquet('exceptions.parquet', index=False)\n",
    "print(\"例外として検出されたファイル・フォルダをexceptions.parquetとして出力しました。\")\n",
    "\n",
    "df_exceptions"
   ]
  },
  {
   "cell_type": "code",
   "execution_count": 19,
   "id": "aab00bbc-8d79-4faa-b75e-27070f3fddac",
   "metadata": {},
   "outputs": [
    {
     "name": "stdout",
     "output_type": "stream",
     "text": [
      "Collecting tqdm\n",
      "  Downloading tqdm-4.67.0-py3-none-any.whl.metadata (57 kB)\n",
      "Downloading tqdm-4.67.0-py3-none-any.whl (78 kB)\n",
      "Installing collected packages: tqdm\n",
      "Successfully installed tqdm-4.67.0\n"
     ]
    }
   ],
   "source": [
    "!pip install tqdm"
   ]
  },
  {
   "cell_type": "code",
   "execution_count": null,
   "id": "53c62513-48a1-4711-a758-f53eca3ab255",
   "metadata": {},
   "outputs": [],
   "source": []
  }
 ],
 "metadata": {
  "kernelspec": {
   "display_name": "Python(ml_env)",
   "language": "python",
   "name": "ml_env"
  },
  "language_info": {
   "codemirror_mode": {
    "name": "ipython",
    "version": 3
   },
   "file_extension": ".py",
   "mimetype": "text/x-python",
   "name": "python",
   "nbconvert_exporter": "python",
   "pygments_lexer": "ipython3",
   "version": "3.10.15"
  }
 },
 "nbformat": 4,
 "nbformat_minor": 5
}
