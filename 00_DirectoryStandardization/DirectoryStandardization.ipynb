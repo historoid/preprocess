{
 "cells": [
  {
   "cell_type": "code",
   "execution_count": 1,
   "id": "b1733443-bafb-487f-8f38-9c3049f95070",
   "metadata": {},
   "outputs": [],
   "source": [
    "import os\n",
    "import yaml\n",
    "import pandas as pd\n",
    "\n",
    "# 列幅を広げる（制限をなくす場合は -1 を指定）\n",
    "pd.options.display.max_colwidth = None\n",
    "\n",
    "# 設定ファイルの読み込み\n",
    "with open('config.yaml', 'r', encoding='utf-8') as file:\n",
    "    config = yaml.safe_load(file)\n",
    "\n",
    "primary_folders = config['primary_folders']\n",
    "secondary_folders = config['secondary_folders']\n",
    "ignore_extensions = config['ignore_extensions']"
   ]
  },
  {
   "cell_type": "code",
   "execution_count": 2,
   "id": "14434229-a491-4846-bb83-66f3b246512a",
   "metadata": {},
   "outputs": [
    {
     "name": "stdout",
     "output_type": "stream",
     "text": [
      "患者候補フォルダの一覧をpatients_candidates.parquetとして出力しました。\n"
     ]
    }
   ],
   "source": [
    "# 患者候補フォルダのリストを格納するリスト\n",
    "patient_candidates = []\n",
    "exception_entries = []\n",
    "\n",
    "# primary_folderとsecondary_folderの絶対パスを記録\n",
    "primary_paths = {os.path.abspath(folder) for folder in primary_folders}\n",
    "secondary_paths = {os.path.abspath(folder) for folder in secondary_folders}\n",
    "\n",
    "# secondary_folder直下の患者候補フォルダをリストアップ\n",
    "patient_paths = set()\n",
    "for secondary_folder in secondary_folders:\n",
    "    abs_secondary_folder = os.path.abspath(secondary_folder)\n",
    "    if os.path.exists(abs_secondary_folder):\n",
    "        for entry in os.listdir(abs_secondary_folder):\n",
    "            entry_path = os.path.join(abs_secondary_folder, entry)\n",
    "            if os.path.isdir(entry_path):\n",
    "                patient_candidates.append({\n",
    "                    'patient_folder_name': entry,\n",
    "                    'patient_folder_path': os.path.abspath(entry_path),\n",
    "                    'secondary_folder': abs_secondary_folder\n",
    "                })\n",
    "                # 患者候補フォルダとその配下を追加\n",
    "                for root, dirs, files in os.walk(entry_path):\n",
    "                    patient_paths.add(os.path.abspath(root))\n",
    "\n",
    "# 患者候補フォルダ一覧をDataFrameに変換して保存\n",
    "df_patients = pd.DataFrame(patient_candidates)\n",
    "df_patients.to_parquet('patients_candidates.parquet', index=False)\n",
    "print(\"患者候補フォルダの一覧をpatients_candidates.parquetとして出力しました。\")"
   ]
  },
  {
   "cell_type": "code",
   "execution_count": 3,
   "id": "b9529f67-13dd-4535-ba55-704571038a58",
   "metadata": {},
   "outputs": [
    {
     "ename": "NameError",
     "evalue": "name 'df_exceptions' is not defined",
     "output_type": "error",
     "traceback": [
      "\u001b[0;31m---------------------------------------------------------------------------\u001b[0m",
      "\u001b[0;31mNameError\u001b[0m                                 Traceback (most recent call last)",
      "Cell \u001b[0;32mIn[3], line 40\u001b[0m\n\u001b[1;32m     34\u001b[0m             exception_entries\u001b[38;5;241m.\u001b[39mappend({\n\u001b[1;32m     35\u001b[0m                 \u001b[38;5;124m'\u001b[39m\u001b[38;5;124mtype\u001b[39m\u001b[38;5;124m'\u001b[39m: \u001b[38;5;124m'\u001b[39m\u001b[38;5;124mfile\u001b[39m\u001b[38;5;124m'\u001b[39m,\n\u001b[1;32m     36\u001b[0m                 \u001b[38;5;124m'\u001b[39m\u001b[38;5;124mpath\u001b[39m\u001b[38;5;124m'\u001b[39m: os\u001b[38;5;241m.\u001b[39mpath\u001b[38;5;241m.\u001b[39mabspath(file_path)\n\u001b[1;32m     37\u001b[0m             })\n\u001b[1;32m     39\u001b[0m \u001b[38;5;66;03m# 変数の削除（jupyter用）\u001b[39;00m\n\u001b[0;32m---> 40\u001b[0m \u001b[38;5;28;01mdel\u001b[39;00m df_exceptions\n\u001b[1;32m     41\u001b[0m gc\u001b[38;5;241m.\u001b[39mcollect()\n\u001b[1;32m     43\u001b[0m \u001b[38;5;66;03m# 例外フォルダ・ファイル一覧をDataFrameに変換して保存\u001b[39;00m\n",
      "\u001b[0;31mNameError\u001b[0m: name 'df_exceptions' is not defined"
     ]
    }
   ],
   "source": [
    "import gc\n",
    "\n",
    "# primary_folderの処理\n",
    "for primary_folder in primary_folders:\n",
    "    abs_primary_folder = os.path.abspath(primary_folder)\n",
    "\n",
    "    for dirpath, dirnames, filenames in os.walk(abs_primary_folder):\n",
    "        abs_dirpath = os.path.abspath(dirpath)\n",
    "\n",
    "        # primary_folder自身だけを除外（完全一致の条件を使用）\n",
    "        if abs_dirpath in abs_primary_folder:\n",
    "            continue\n",
    "\n",
    "        # secondary_folder自身だけを除外（完全一致の条件を使用）\n",
    "        if abs_dirpath in {os.path.abspath(secondary_folder) for secondary_folder in secondary_folders}:\n",
    "            continue\n",
    "\n",
    "        # 患者候補フォルダおよびその配下を除外（親子関係を判定）\n",
    "        if any(abs_dirpath.startswith(patient_path) for patient_path in patient_paths):\n",
    "            continue\n",
    "\n",
    "        # 無視する拡張子のファイルを除外\n",
    "        filenames = [f for f in filenames if not any(f.lower().endswith(ext.lower()) for ext in ignore_extensions)]\n",
    "\n",
    "        # 残ったフォルダやファイルを例外リストに追加\n",
    "        for dirname in dirnames:\n",
    "            entry_path = os.path.join(dirpath, dirname)\n",
    "            exception_entries.append({\n",
    "                'type': 'folder',\n",
    "                'path': os.path.abspath(entry_path)\n",
    "            })\n",
    "        for filename in filenames:\n",
    "            file_path = os.path.join(dirpath, filename)\n",
    "            exception_entries.append({\n",
    "                'type': 'file',\n",
    "                'path': os.path.abspath(file_path)\n",
    "            })\n",
    "\n",
    "# 変数の削除（jupyter用）\n",
    "del df_exceptions\n",
    "gc.collect()\n",
    "\n",
    "# 例外フォルダ・ファイル一覧をDataFrameに変換して保存\n",
    "df_exceptions = pd.DataFrame(exception_entries)\n",
    "df_exceptions.to_parquet('exceptions.parquet', index=False)\n",
    "print(\"例外として検出されたファイル・フォルダをexceptions.parquetとして出力しました。\")\n",
    "\n",
    "df_exceptions"
   ]
  },
  {
   "cell_type": "code",
   "execution_count": null,
   "id": "aab00bbc-8d79-4faa-b75e-27070f3fddac",
   "metadata": {},
   "outputs": [],
   "source": []
  }
 ],
 "metadata": {
  "kernelspec": {
   "display_name": "Python(ml_env)",
   "language": "python",
   "name": "ml_env"
  },
  "language_info": {
   "codemirror_mode": {
    "name": "ipython",
    "version": 3
   },
   "file_extension": ".py",
   "mimetype": "text/x-python",
   "name": "python",
   "nbconvert_exporter": "python",
   "pygments_lexer": "ipython3",
   "version": "3.10.15"
  }
 },
 "nbformat": 4,
 "nbformat_minor": 5
}
