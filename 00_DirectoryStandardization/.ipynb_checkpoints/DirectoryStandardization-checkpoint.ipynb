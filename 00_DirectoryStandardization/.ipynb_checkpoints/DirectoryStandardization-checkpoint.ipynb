{
 "cells": [
  {
   "cell_type": "code",
   "execution_count": 1,
   "id": "b1733443-bafb-487f-8f38-9c3049f95070",
   "metadata": {},
   "outputs": [],
   "source": [
    "import os\n",
    "import yaml\n",
    "import pandas as pd\n",
    "\n",
    "# 列幅を広げる（制限をなくす場合は -1 を指定）\n",
    "pd.options.display.max_colwidth = None\n",
    "\n",
    "# 設定ファイルの読み込み\n",
    "with open('config.yaml', 'r', encoding='utf-8') as file:\n",
    "    config = yaml.safe_load(file)\n",
    "\n",
    "primary_folders = config['primary_folders']\n",
    "secondary_folders = config['secondary_folders']\n",
    "ignore_extensions = config['ignore_extensions']"
   ]
  },
  {
   "cell_type": "code",
   "execution_count": 2,
   "id": "14434229-a491-4846-bb83-66f3b246512a",
   "metadata": {},
   "outputs": [
    {
     "name": "stdout",
     "output_type": "stream",
     "text": [
      "患者候補フォルダの一覧をpatients_candidates.parquetとして出力しました。\n"
     ]
    }
   ],
   "source": [
    "# 患者候補フォルダのリストを格納するリスト\n",
    "patient_candidates = []\n",
    "exception_entries = []\n",
    "\n",
    "# primary_folderとsecondary_folderの絶対パスを記録\n",
    "primary_paths = {os.path.abspath(folder) for folder in primary_folders}\n",
    "secondary_paths = {os.path.abspath(folder) for folder in secondary_folders}\n",
    "\n",
    "# secondary_folder直下の患者候補フォルダをリストアップ\n",
    "patient_paths = set()\n",
    "for secondary_folder in secondary_folders:\n",
    "    abs_secondary_folder = os.path.abspath(secondary_folder)\n",
    "    if os.path.exists(abs_secondary_folder):\n",
    "        for entry in os.listdir(abs_secondary_folder):\n",
    "            entry_path = os.path.join(abs_secondary_folder, entry)\n",
    "            if os.path.isdir(entry_path):\n",
    "                patient_candidates.append({\n",
    "                    'patient_folder_name': entry,\n",
    "                    'patient_folder_path': os.path.abspath(entry_path),\n",
    "                    'secondary_folder': abs_secondary_folder\n",
    "                })\n",
    "                # 患者候補フォルダとその配下を追加\n",
    "                for root, dirs, files in os.walk(entry_path):\n",
    "                    patient_paths.add(os.path.abspath(root))\n",
    "\n",
    "# 患者候補フォルダ一覧をDataFrameに変換して保存\n",
    "df_patients = pd.DataFrame(patient_candidates)\n",
    "df_patients.to_parquet('patients_candidates.parquet', index=False)\n",
    "print(\"患者候補フォルダの一覧をpatients_candidates.parquetとして出力しました。\")"
   ]
  },
  {
   "cell_type": "code",
   "execution_count": 3,
   "id": "b9529f67-13dd-4535-ba55-704571038a58",
   "metadata": {},
   "outputs": [
    {
     "name": "stdout",
     "output_type": "stream",
     "text": [
      "患者候補フォルダの一覧をpatients_candidates.parquetとして出力しました。\n",
      "例外として検出されたファイル・フォルダをexceptions.parquetとして出力しました。\n"
     ]
    }
   ],
   "source": [
    "# 患者候補フォルダ一覧をDataFrameに変換して保存\n",
    "df_patients = pd.DataFrame(patient_candidates)\n",
    "df_patients.to_parquet('patients_candidates.parquet', index=False)\n",
    "print(\"患者候補フォルダの一覧をpatients_candidates.parquetとして出力しました。\")\n",
    "\n",
    "# primary_folderを探索し、例外対象を特定\n",
    "for primary_folder in primary_folders:\n",
    "    for dirpath, dirnames, filenames in os.walk(primary_folder):\n",
    "        abs_dirpath = os.path.abspath(dirpath)\n",
    "\n",
    "        # 除外条件をチェック\n",
    "        if abs_dirpath in primary_paths:  # primary_folder自身\n",
    "            continue\n",
    "        if abs_dirpath in secondary_paths:  # secondary_folder自身\n",
    "            continue\n",
    "        if abs_dirpath in patient_paths:  # 患者候補フォルダおよびその配下\n",
    "            continue\n",
    "\n",
    "        # 無視する拡張子のファイルを除外\n",
    "        filenames = [f for f in filenames if not any(f.lower().endswith(ext.lower()) for ext in ignore_extensions)]\n",
    "\n",
    "        # 残ったフォルダやファイルを例外リストに追加\n",
    "        for dirname in dirnames:\n",
    "            entry_path = os.path.join(dirpath, dirname)\n",
    "            exception_entries.append({\n",
    "                'type': 'folder',\n",
    "                'path': os.path.abspath(entry_path)\n",
    "            })\n",
    "        for filename in filenames:\n",
    "            file_path = os.path.join(dirpath, filename)\n",
    "            exception_entries.append({\n",
    "                'type': 'file',\n",
    "                'path': os.path.abspath(file_path)\n",
    "            })\n",
    "\n",
    "# 例外フォルダ・ファイル一覧をDataFrameに変換して保存\n",
    "df_exceptions = pd.DataFrame(exception_entries)\n",
    "df_exceptions.to_parquet('exceptions.parquet', index=False)\n",
    "print(\"例外として検出されたファイル・フォルダをexceptions.parquetとして出力しました。\")"
   ]
  },
  {
   "cell_type": "code",
   "execution_count": 4,
   "id": "69288cce-001b-4293-8e98-c74f367e8440",
   "metadata": {},
   "outputs": [
    {
     "data": {
      "text/html": [
       "<div>\n",
       "<style scoped>\n",
       "    .dataframe tbody tr th:only-of-type {\n",
       "        vertical-align: middle;\n",
       "    }\n",
       "\n",
       "    .dataframe tbody tr th {\n",
       "        vertical-align: top;\n",
       "    }\n",
       "\n",
       "    .dataframe thead th {\n",
       "        text-align: right;\n",
       "    }\n",
       "</style>\n",
       "<table border=\"1\" class=\"dataframe\">\n",
       "  <thead>\n",
       "    <tr style=\"text-align: right;\">\n",
       "      <th></th>\n",
       "    </tr>\n",
       "  </thead>\n",
       "  <tbody>\n",
       "  </tbody>\n",
       "</table>\n",
       "</div>"
      ],
      "text/plain": [
       "Empty DataFrame\n",
       "Columns: []\n",
       "Index: []"
      ]
     },
     "execution_count": 4,
     "metadata": {},
     "output_type": "execute_result"
    }
   ],
   "source": [
    "df_exceptions"
   ]
  },
  {
   "cell_type": "code",
   "execution_count": null,
   "id": "172680fe-1168-45a4-ae2f-f964840935de",
   "metadata": {},
   "outputs": [],
   "source": []
  }
 ],
 "metadata": {
  "kernelspec": {
   "display_name": "Python(ml_env)",
   "language": "python",
   "name": "ml_env"
  },
  "language_info": {
   "codemirror_mode": {
    "name": "ipython",
    "version": 3
   },
   "file_extension": ".py",
   "mimetype": "text/x-python",
   "name": "python",
   "nbconvert_exporter": "python",
   "pygments_lexer": "ipython3",
   "version": "3.10.15"
  }
 },
 "nbformat": 4,
 "nbformat_minor": 5
}
